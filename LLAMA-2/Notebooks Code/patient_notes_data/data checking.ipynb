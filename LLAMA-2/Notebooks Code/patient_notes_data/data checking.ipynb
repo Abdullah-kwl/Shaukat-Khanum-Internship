{
 "cells": [
  {
   "cell_type": "code",
   "execution_count": 1,
   "id": "2877812f",
   "metadata": {},
   "outputs": [],
   "source": [
    "import pandas as pd\n",
    "import numpy as np\n"
   ]
  },
  {
   "cell_type": "code",
   "execution_count": 2,
   "id": "0e47a0b5",
   "metadata": {},
   "outputs": [
    {
     "data": {
      "text/plain": [
       "(42146, 3)"
      ]
     },
     "execution_count": 2,
     "metadata": {},
     "output_type": "execute_result"
    }
   ],
   "source": [
    "df=pd.read_csv('patient_notes.csv')\n",
    "df.shape"
   ]
  },
  {
   "cell_type": "code",
   "execution_count": 3,
   "id": "faedb187",
   "metadata": {},
   "outputs": [
    {
     "data": {
      "text/html": [
       "<div>\n",
       "<style scoped>\n",
       "    .dataframe tbody tr th:only-of-type {\n",
       "        vertical-align: middle;\n",
       "    }\n",
       "\n",
       "    .dataframe tbody tr th {\n",
       "        vertical-align: top;\n",
       "    }\n",
       "\n",
       "    .dataframe thead th {\n",
       "        text-align: right;\n",
       "    }\n",
       "</style>\n",
       "<table border=\"1\" class=\"dataframe\">\n",
       "  <thead>\n",
       "    <tr style=\"text-align: right;\">\n",
       "      <th></th>\n",
       "      <th>pn_num</th>\n",
       "      <th>case_num</th>\n",
       "      <th>pn_history</th>\n",
       "    </tr>\n",
       "  </thead>\n",
       "  <tbody>\n",
       "    <tr>\n",
       "      <th>0</th>\n",
       "      <td>0</td>\n",
       "      <td>0</td>\n",
       "      <td>17-year-old male, has come to the student heal...</td>\n",
       "    </tr>\n",
       "    <tr>\n",
       "      <th>1</th>\n",
       "      <td>1</td>\n",
       "      <td>0</td>\n",
       "      <td>17 yo male with recurrent palpitations for the...</td>\n",
       "    </tr>\n",
       "    <tr>\n",
       "      <th>2</th>\n",
       "      <td>2</td>\n",
       "      <td>0</td>\n",
       "      <td>Dillon Cleveland is a 17 y.o. male patient wit...</td>\n",
       "    </tr>\n",
       "    <tr>\n",
       "      <th>3</th>\n",
       "      <td>3</td>\n",
       "      <td>0</td>\n",
       "      <td>a 17 yo m c/o palpitation started 3 mos ago; \\...</td>\n",
       "    </tr>\n",
       "    <tr>\n",
       "      <th>4</th>\n",
       "      <td>4</td>\n",
       "      <td>0</td>\n",
       "      <td>17yo male with no pmh here for evaluation of p...</td>\n",
       "    </tr>\n",
       "  </tbody>\n",
       "</table>\n",
       "</div>"
      ],
      "text/plain": [
       "   pn_num  case_num                                         pn_history\n",
       "0       0         0  17-year-old male, has come to the student heal...\n",
       "1       1         0  17 yo male with recurrent palpitations for the...\n",
       "2       2         0  Dillon Cleveland is a 17 y.o. male patient wit...\n",
       "3       3         0  a 17 yo m c/o palpitation started 3 mos ago; \\...\n",
       "4       4         0  17yo male with no pmh here for evaluation of p..."
      ]
     },
     "execution_count": 3,
     "metadata": {},
     "output_type": "execute_result"
    }
   ],
   "source": [
    "df.head()"
   ]
  },
  {
   "cell_type": "code",
   "execution_count": 4,
   "id": "8c8c6ec9",
   "metadata": {},
   "outputs": [
    {
     "data": {
      "text/plain": [
       "0        17-year-old male, has come to the student heal...\n",
       "1        17 yo male with recurrent palpitations for the...\n",
       "2        Dillon Cleveland is a 17 y.o. male patient wit...\n",
       "3        a 17 yo m c/o palpitation started 3 mos ago; \\...\n",
       "4        17yo male with no pmh here for evaluation of p...\n",
       "                               ...                        \n",
       "42141    Ms. Madden is a 20 yo female presenting w/ the...\n",
       "42142    A 20 YO F CAME COMPLAIN A DULL 8/10 HEADACHE T...\n",
       "42143    Ms. Madden is a 20yo female who presents with ...\n",
       "42144    Stephanie madden is a 20 year old woman compla...\n",
       "42145    patient is a 20 yo F who presents with a heada...\n",
       "Name: pn_history, Length: 42146, dtype: object"
      ]
     },
     "execution_count": 4,
     "metadata": {},
     "output_type": "execute_result"
    }
   ],
   "source": [
    "df.pn_history"
   ]
  },
  {
   "cell_type": "code",
   "execution_count": 7,
   "id": "d836abc2",
   "metadata": {},
   "outputs": [
    {
     "name": "stdout",
     "output_type": "stream",
     "text": [
      "17-year-old male, has come to the student health clinic complaining of heart pounding. Mr. Cleveland's mother has given verbal consent for a history, physical examination, and treatment\r\n",
      "-began 2-3 months ago,sudden,intermittent for 2 days(lasting 3-4 min),worsening,non-allev/aggrav\r\n",
      "-associated with dispnea on exersion and rest,stressed out about school\r\n",
      "-reports fe feels like his heart is jumping out of his chest\r\n",
      "-ros:denies chest pain,dyaphoresis,wt loss,chills,fever,nausea,vomiting,pedal edeam\r\n",
      "-pmh:non,meds :aderol (from a friend),nkda\r\n",
      "-fh:father had MI recently,mother has thyroid dz\r\n",
      "-sh:non-smoker,mariguana 5-6 months ago,3 beers on the weekend, basketball at school\r\n",
      "-sh:no std\n",
      "____________________________________________\n",
      "17 yo male with recurrent palpitations for the past 3 mo lasting about 3 - 4 min, it happened about 5 - 6 times since the beginning. One time durign a baskeball game two days ago light headedness, pressure in the chest, catching breath, but no fainting. During teh episodes no sweating. No diarrhea, no heat intolerance, no weight loss. Has tried aterol to be able to better concentrate, has received it from his roommate. .\n",
      "____________________________________________\n"
     ]
    }
   ],
   "source": [
    "for i in range(2):\n",
    "    print(df.pn_history[i])\n",
    "    print(\"____________________________________________\")"
   ]
  },
  {
   "cell_type": "code",
   "execution_count": 8,
   "id": "feaa03a3",
   "metadata": {},
   "outputs": [
    {
     "data": {
      "text/plain": [
       "\"17-year-old male, has come to the student health clinic complaining of heart pounding. Mr. Cleveland's mother has given verbal consent for a history, physical examination, and treatment\\r\\n-began 2-3 months ago,sudden,intermittent for 2 days(lasting 3-4 min),worsening,non-allev/aggrav\\r\\n-associated with dispnea on exersion and rest,stressed out about school\\r\\n-reports fe feels like his heart is jumping out of his chest\\r\\n-ros:denies chest pain,dyaphoresis,wt loss,chills,fever,nausea,vomiting,pedal edeam\\r\\n-pmh:non,meds :aderol (from a friend),nkda\\r\\n-fh:father had MI recently,mother has thyroid dz\\r\\n-sh:non-smoker,mariguana 5-6 months ago,3 beers on the weekend, basketball at school\\r\\n-sh:no std\""
      ]
     },
     "execution_count": 8,
     "metadata": {},
     "output_type": "execute_result"
    }
   ],
   "source": [
    "df.pn_history[0]"
   ]
  }
 ],
 "metadata": {
  "kernelspec": {
   "display_name": "Python 3 (ipykernel)",
   "language": "python",
   "name": "python3"
  },
  "language_info": {
   "codemirror_mode": {
    "name": "ipython",
    "version": 3
   },
   "file_extension": ".py",
   "mimetype": "text/x-python",
   "name": "python",
   "nbconvert_exporter": "python",
   "pygments_lexer": "ipython3",
   "version": "3.9.2"
  }
 },
 "nbformat": 4,
 "nbformat_minor": 5
}

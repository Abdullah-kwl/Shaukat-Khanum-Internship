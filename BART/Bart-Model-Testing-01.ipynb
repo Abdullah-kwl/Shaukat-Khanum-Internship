{
 "cells": [
  {
   "cell_type": "code",
   "execution_count": 1,
   "id": "db52f574-7544-4a53-b4ec-af5526832735",
   "metadata": {},
   "outputs": [
    {
     "name": "stdout",
     "output_type": "stream",
     "text": [
      "WARNING:tensorflow:From c:\\users\\rehman baba\\desktop\\app\\venv-01\\lib\\site-packages\\keras\\src\\losses.py:2976: The name tf.losses.sparse_softmax_cross_entropy is deprecated. Please use tf.compat.v1.losses.sparse_softmax_cross_entropy instead.\n",
      "\n"
     ]
    }
   ],
   "source": [
    "from transformers import pipeline"
   ]
  },
  {
   "cell_type": "code",
   "execution_count": 2,
   "id": "fe03d000-3db0-44ee-98f4-3cd88919c877",
   "metadata": {},
   "outputs": [
    {
     "name": "stdout",
     "output_type": "stream",
     "text": [
      "WARNING:tensorflow:From c:\\users\\rehman baba\\desktop\\app\\venv-01\\lib\\site-packages\\keras\\src\\backend.py:873: The name tf.get_default_graph is deprecated. Please use tf.compat.v1.get_default_graph instead.\n",
      "\n"
     ]
    },
    {
     "name": "stderr",
     "output_type": "stream",
     "text": [
      "All PyTorch model weights were used when initializing TFBartForConditionalGeneration.\n",
      "\n",
      "All the weights of TFBartForConditionalGeneration were initialized from the PyTorch model.\n",
      "If your task is similar to the task the model of the checkpoint was trained on, you can already use TFBartForConditionalGeneration for predictions without further training.\n"
     ]
    }
   ],
   "source": [
    "# Load facebook/bart-large-cnn for text summarization pipeline\n",
    "# facebook/bart-large-cnn has maximum 400M parameters\n",
    "summarizer = pipeline(\"summarization\", model=\"facebook/bart-large-cnn\", tokenizer=\"facebook/bart-large-cnn\", framework=\"tf\")"
   ]
  },
  {
   "cell_type": "code",
   "execution_count": 3,
   "id": "aed62d77-8a94-4b76-b941-c0f816f0a9a3",
   "metadata": {},
   "outputs": [],
   "source": [
    "# Input text for summarization\n",
    "input_text = \"\"\"\n",
    "Treatment Plan:\n",
    "    The patient, Johnny Depp , is seeking care for a short-term and moderate musculoskeletal discomfort. The treatment plan is designed to address the specific symptoms and promote a quick recovery. It involves a combination of therapeutic exercises, pain management strategies, and lifestyle modifications.\n",
    "    The patient is prescribed a tailored exercise routine focusing on stretching and strengthening the affected muscles and joints. This regimen should be performed under the guidance of a qualified physiotherapist or healthcare professional. The patient is advised to follow the exercise plan diligently to enhance flexibility and alleviate discomfort.\n",
    "    In addition to the exercise routine, pain management strategies are integrated into the treatment plan. This includes the use of over-the-counter pain relievers, such as acetaminophen, as needed for pain control. It is crucial for the patient to adhere to the recommended dosage and consult with a healthcare professional before taking any new medications, especially if there are pre-existing medical conditions or allergies.\n",
    "\n",
    "Special Instructions:\n",
    "    To optimize the effectiveness of the treatment plan, the patient is provided with special instructions. These instructions include:\n",
    "\n",
    "Heat and Cold Therapy:\n",
    "    The application of heat or cold packs to the affected area may help reduce inflammation and soothe discomfort. Alternate between heat and cold therapy as directed by the healthcare professional.\n",
    "\n",
    "Rest and Activity Balance:\n",
    "    While engaging in therapeutic exercises is essential, it is equally important to strike a balance between activity and rest. Avoid activities that exacerbate pain, and ensure an adequate amount of rest to support the healing process.\n",
    "\n",
    "Hydration and Nutrition:\n",
    "    Adequate hydration is crucial for overall health and healing. The patient is encouraged to maintain good hydration levels and follow a balanced diet rich in nutrients, including calcium and vitamin D, which are essential for musculoskeletal health.\n",
    "\n",
    "Posture Awareness:\n",
    "    Correct posture is integral to preventing further strain on muscles and joints. The patient is advised to be mindful of their posture, especially during activities that involve prolonged sitting or standing.\n",
    "\n",
    "Follow-up Recommendations:\n",
    "    Regular follow-up appointments are scheduled to monitor the patient's progress and make any necessary adjustments to the treatment plan. The first follow-up is recommended after two weeks from the initiation of the treatment plan. During this appointment, the healthcare professional will assess the patient's response to the therapeutic exercises, evaluate pain levels, and provide additional guidance.\n",
    "    Subsequent follow-ups will be scheduled at monthly intervals to track long-term progress and address any emerging concerns. The patient is encouraged to communicate openly about their experiences, including any challenges or improvements observed during the course of the treatment plan.\n",
    "    In the event of persistent or worsening symptoms, the patient is advised to contact the healthcare provider promptly for a reassessment. Depending on the evaluation, modifications to the treatment plan may be made to ensure optimal recovery.\n",
    "    This comprehensive treatment plan is designed to empower the patient with the tools and knowledge necessary for a successful rehabilitation journey. It is essential for the patient to actively participate in their care and communicate openly with their healthcare team to achieve the best possible outcomes.\n",
    "\"\"\"\n",
    "\n",
    "# Generate summary\n",
    "summary = summarizer(input_text, max_length=150, min_length=30, early_stopping=True , num_beams=4 , do_sample=True)"
   ]
  },
  {
   "cell_type": "code",
   "execution_count": 4,
   "id": "8a26b06f-5c28-490c-b21b-2525aa0be5f4",
   "metadata": {},
   "outputs": [
    {
     "name": "stdout",
     "output_type": "stream",
     "text": [
      "Original Text Length:\n",
      "3555\n",
      "\n",
      "Generated Summary Length:\n",
      "288\n"
     ]
    }
   ],
   "source": [
    "# Print the generated summary Length\n",
    "print(\"Original Text Length:\")\n",
    "print(len(input_text))\n",
    "print(\"\\nGenerated Summary Length:\")\n",
    "print(len(summary[0]['summary_text']))"
   ]
  },
  {
   "cell_type": "code",
   "execution_count": 5,
   "id": "5d9af5cd-2695-4d9b-b847-0969a4a35fc2",
   "metadata": {},
   "outputs": [
    {
     "name": "stdout",
     "output_type": "stream",
     "text": [
      "Original Text:\n",
      "\n",
      "Treatment Plan:\n",
      "    The patient, Johnny Depp , is seeking care for a short-term and moderate musculoskeletal discomfort. The treatment plan is designed to address the specific symptoms and promote a quick recovery. It involves a combination of therapeutic exercises, pain management strategies, and lifestyle modifications.\n",
      "    The patient is prescribed a tailored exercise routine focusing on stretching and strengthening the affected muscles and joints. This regimen should be performed under the guidance of a qualified physiotherapist or healthcare professional. The patient is advised to follow the exercise plan diligently to enhance flexibility and alleviate discomfort.\n",
      "    In addition to the exercise routine, pain management strategies are integrated into the treatment plan. This includes the use of over-the-counter pain relievers, such as acetaminophen, as needed for pain control. It is crucial for the patient to adhere to the recommended dosage and consult with a healthcare professional before taking any new medications, especially if there are pre-existing medical conditions or allergies.\n",
      "\n",
      "Special Instructions:\n",
      "    To optimize the effectiveness of the treatment plan, the patient is provided with special instructions. These instructions include:\n",
      "\n",
      "Heat and Cold Therapy:\n",
      "    The application of heat or cold packs to the affected area may help reduce inflammation and soothe discomfort. Alternate between heat and cold therapy as directed by the healthcare professional.\n",
      "\n",
      "Rest and Activity Balance:\n",
      "    While engaging in therapeutic exercises is essential, it is equally important to strike a balance between activity and rest. Avoid activities that exacerbate pain, and ensure an adequate amount of rest to support the healing process.\n",
      "\n",
      "Hydration and Nutrition:\n",
      "    Adequate hydration is crucial for overall health and healing. The patient is encouraged to maintain good hydration levels and follow a balanced diet rich in nutrients, including calcium and vitamin D, which are essential for musculoskeletal health.\n",
      "\n",
      "Posture Awareness:\n",
      "    Correct posture is integral to preventing further strain on muscles and joints. The patient is advised to be mindful of their posture, especially during activities that involve prolonged sitting or standing.\n",
      "\n",
      "Follow-up Recommendations:\n",
      "    Regular follow-up appointments are scheduled to monitor the patient's progress and make any necessary adjustments to the treatment plan. The first follow-up is recommended after two weeks from the initiation of the treatment plan. During this appointment, the healthcare professional will assess the patient's response to the therapeutic exercises, evaluate pain levels, and provide additional guidance.\n",
      "    Subsequent follow-ups will be scheduled at monthly intervals to track long-term progress and address any emerging concerns. The patient is encouraged to communicate openly about their experiences, including any challenges or improvements observed during the course of the treatment plan.\n",
      "    In the event of persistent or worsening symptoms, the patient is advised to contact the healthcare provider promptly for a reassessment. Depending on the evaluation, modifications to the treatment plan may be made to ensure optimal recovery.\n",
      "    This comprehensive treatment plan is designed to empower the patient with the tools and knowledge necessary for a successful rehabilitation journey. It is essential for the patient to actively participate in their care and communicate openly with their healthcare team to achieve the best possible outcomes.\n",
      "\n",
      "\n",
      "Generated Summary:\n",
      "Johnny Depp is seeking care for a short-term and moderate musculoskeletal discomfort. The treatment plan is designed to address the specific symptoms and promote a quick recovery. It involves a combination of therapeutic exercises, pain management strategies, and lifestyle modifications.\n"
     ]
    }
   ],
   "source": [
    "# Print the generated summary\n",
    "print(\"Original Text:\")\n",
    "print(input_text)\n",
    "print(\"\\nGenerated Summary:\")\n",
    "print(summary[0]['summary_text'])"
   ]
  }
 ],
 "metadata": {
  "kernelspec": {
   "display_name": "Python 3 (ipykernel)",
   "language": "python",
   "name": "python3"
  },
  "language_info": {
   "codemirror_mode": {
    "name": "ipython",
    "version": 3
   },
   "file_extension": ".py",
   "mimetype": "text/x-python",
   "name": "python",
   "nbconvert_exporter": "python",
   "pygments_lexer": "ipython3",
   "version": "3.9.2"
  }
 },
 "nbformat": 4,
 "nbformat_minor": 5
}
